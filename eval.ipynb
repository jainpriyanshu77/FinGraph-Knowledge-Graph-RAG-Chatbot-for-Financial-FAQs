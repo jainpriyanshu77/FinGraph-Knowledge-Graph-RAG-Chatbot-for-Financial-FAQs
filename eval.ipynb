{
 "cells": [
  {
   "cell_type": "code",
   "execution_count": 1,
   "metadata": {},
   "outputs": [
    {
     "name": "stderr",
     "output_type": "stream",
     "text": [
      "/home/rajath/miniconda3/envs/stockformer/lib/python3.10/site-packages/tqdm/auto.py:21: TqdmWarning: IProgress not found. Please update jupyter and ipywidgets. See https://ipywidgets.readthedocs.io/en/stable/user_install.html\n",
      "  from .autonotebook import tqdm as notebook_tqdm\n"
     ]
    }
   ],
   "source": [
    "import os, json\n",
    "import numpy as np\n",
    "import pandas as pd\n",
    "import yfinance as yf\n",
    "from datetime import datetime, timedelta\n",
    "import matplotlib.pyplot as plt\n",
    "\n",
    "from config import StockformerConfig\n",
    "from train import train\n",
    "from inference import init_config, init_model, predict"
   ]
  },
  {
   "cell_type": "code",
   "execution_count": 13,
   "metadata": {},
   "outputs": [
    {
     "name": "stdout",
     "output_type": "stream",
     "text": [
      "Loading config checkpoint from path: /home/rajath/nvidia-workbench/stocker/portfolia/models/stockformer/sp500-360d-final\n",
      "Loading model checkpoint from path: /home/rajath/nvidia-workbench/stocker/portfolia/models/stockformer/sp500-360d-final\n"
     ]
    }
   ],
   "source": [
    "prediction_length = 360\n",
    "down_sample = min(prediction_length, 30)\n",
    "load_checkpoint = f'sp500-{prediction_length}d-final'\n",
    "config = init_config(load_checkpoint)\n",
    "model = init_model(config, load_checkpoint)"
   ]
  },
  {
   "cell_type": "code",
   "execution_count": 14,
   "metadata": {},
   "outputs": [
    {
     "name": "stderr",
     "output_type": "stream",
     "text": [
      "[*********************100%%**********************]  1 of 1 completed\n"
     ]
    }
   ],
   "source": [
    "symbols = ['NVDA']\n",
    "forecasts = predict(\n",
    "    symbols,\n",
    "    model,\n",
    "    config,\n",
    "    prediction_length,\n",
    "    down_sample,\n",
    "    end_date=\"2023-07-20\",\n",
    ")"
   ]
  },
  {
   "cell_type": "code",
   "execution_count": 15,
   "metadata": {},
   "outputs": [
    {
     "data": {
      "text/html": [
       "<div>\n",
       "<style scoped>\n",
       "    .dataframe tbody tr th:only-of-type {\n",
       "        vertical-align: middle;\n",
       "    }\n",
       "\n",
       "    .dataframe tbody tr th {\n",
       "        vertical-align: top;\n",
       "    }\n",
       "\n",
       "    .dataframe thead th {\n",
       "        text-align: right;\n",
       "    }\n",
       "</style>\n",
       "<table border=\"1\" class=\"dataframe\">\n",
       "  <thead>\n",
       "    <tr style=\"text-align: right;\">\n",
       "      <th></th>\n",
       "      <th>Date</th>\n",
       "      <th>Symbol</th>\n",
       "      <th>Open</th>\n",
       "      <th>High</th>\n",
       "      <th>Low</th>\n",
       "      <th>Close</th>\n",
       "      <th>Adj Close</th>\n",
       "      <th>Volume</th>\n",
       "    </tr>\n",
       "  </thead>\n",
       "  <tbody>\n",
       "    <tr>\n",
       "      <th>30</th>\n",
       "      <td>2017-10-25</td>\n",
       "      <td>NVDA</td>\n",
       "      <td>4.927000</td>\n",
       "      <td>4.980500</td>\n",
       "      <td>4.779250</td>\n",
       "      <td>4.841500</td>\n",
       "      <td>4.786174</td>\n",
       "      <td>8.281600e+08</td>\n",
       "    </tr>\n",
       "    <tr>\n",
       "      <th>31</th>\n",
       "      <td>2017-11-10</td>\n",
       "      <td>NVDA</td>\n",
       "      <td>5.327000</td>\n",
       "      <td>5.466750</td>\n",
       "      <td>5.290750</td>\n",
       "      <td>5.403500</td>\n",
       "      <td>5.341751</td>\n",
       "      <td>1.253256e+09</td>\n",
       "    </tr>\n",
       "    <tr>\n",
       "      <th>32</th>\n",
       "      <td>2017-11-29</td>\n",
       "      <td>NVDA</td>\n",
       "      <td>5.250250</td>\n",
       "      <td>5.253000</td>\n",
       "      <td>4.780750</td>\n",
       "      <td>4.910500</td>\n",
       "      <td>4.857757</td>\n",
       "      <td>1.396788e+09</td>\n",
       "    </tr>\n",
       "    <tr>\n",
       "      <th>33</th>\n",
       "      <td>2017-12-15</td>\n",
       "      <td>NVDA</td>\n",
       "      <td>4.706250</td>\n",
       "      <td>4.809500</td>\n",
       "      <td>4.640500</td>\n",
       "      <td>4.789000</td>\n",
       "      <td>4.737563</td>\n",
       "      <td>6.700360e+08</td>\n",
       "    </tr>\n",
       "    <tr>\n",
       "      <th>34</th>\n",
       "      <td>2018-01-04</td>\n",
       "      <td>NVDA</td>\n",
       "      <td>5.394000</td>\n",
       "      <td>5.451250</td>\n",
       "      <td>5.317250</td>\n",
       "      <td>5.339750</td>\n",
       "      <td>5.282397</td>\n",
       "      <td>5.832680e+08</td>\n",
       "    </tr>\n",
       "    <tr>\n",
       "      <th>...</th>\n",
       "      <td>...</td>\n",
       "      <td>...</td>\n",
       "      <td>...</td>\n",
       "      <td>...</td>\n",
       "      <td>...</td>\n",
       "      <td>...</td>\n",
       "      <td>...</td>\n",
       "      <td>...</td>\n",
       "    </tr>\n",
       "    <tr>\n",
       "      <th>176</th>\n",
       "      <td>2024-09-12</td>\n",
       "      <td>NVDA</td>\n",
       "      <td>62.069059</td>\n",
       "      <td>65.293514</td>\n",
       "      <td>62.403575</td>\n",
       "      <td>62.048967</td>\n",
       "      <td>63.461639</td>\n",
       "      <td>2.936045e+08</td>\n",
       "    </tr>\n",
       "    <tr>\n",
       "      <th>177</th>\n",
       "      <td>2024-09-30</td>\n",
       "      <td>NVDA</td>\n",
       "      <td>62.684635</td>\n",
       "      <td>65.821041</td>\n",
       "      <td>62.476067</td>\n",
       "      <td>62.493516</td>\n",
       "      <td>64.196638</td>\n",
       "      <td>2.072457e+08</td>\n",
       "    </tr>\n",
       "    <tr>\n",
       "      <th>178</th>\n",
       "      <td>2024-10-16</td>\n",
       "      <td>NVDA</td>\n",
       "      <td>63.505939</td>\n",
       "      <td>66.472305</td>\n",
       "      <td>63.587126</td>\n",
       "      <td>63.111874</td>\n",
       "      <td>65.124365</td>\n",
       "      <td>2.160632e+08</td>\n",
       "    </tr>\n",
       "    <tr>\n",
       "      <th>179</th>\n",
       "      <td>2024-11-01</td>\n",
       "      <td>NVDA</td>\n",
       "      <td>64.161568</td>\n",
       "      <td>67.171169</td>\n",
       "      <td>64.041580</td>\n",
       "      <td>63.927372</td>\n",
       "      <td>65.250740</td>\n",
       "      <td>2.567451e+08</td>\n",
       "    </tr>\n",
       "    <tr>\n",
       "      <th>180</th>\n",
       "      <td>2024-11-19</td>\n",
       "      <td>NVDA</td>\n",
       "      <td>65.088030</td>\n",
       "      <td>67.784485</td>\n",
       "      <td>64.386106</td>\n",
       "      <td>64.993189</td>\n",
       "      <td>65.988026</td>\n",
       "      <td>2.524664e+08</td>\n",
       "    </tr>\n",
       "  </tbody>\n",
       "</table>\n",
       "<p>151 rows × 8 columns</p>\n",
       "</div>"
      ],
      "text/plain": [
       "          Date Symbol       Open       High        Low      Close  Adj Close  \\\n",
       "30  2017-10-25   NVDA   4.927000   4.980500   4.779250   4.841500   4.786174   \n",
       "31  2017-11-10   NVDA   5.327000   5.466750   5.290750   5.403500   5.341751   \n",
       "32  2017-11-29   NVDA   5.250250   5.253000   4.780750   4.910500   4.857757   \n",
       "33  2017-12-15   NVDA   4.706250   4.809500   4.640500   4.789000   4.737563   \n",
       "34  2018-01-04   NVDA   5.394000   5.451250   5.317250   5.339750   5.282397   \n",
       "..         ...    ...        ...        ...        ...        ...        ...   \n",
       "176 2024-09-12   NVDA  62.069059  65.293514  62.403575  62.048967  63.461639   \n",
       "177 2024-09-30   NVDA  62.684635  65.821041  62.476067  62.493516  64.196638   \n",
       "178 2024-10-16   NVDA  63.505939  66.472305  63.587126  63.111874  65.124365   \n",
       "179 2024-11-01   NVDA  64.161568  67.171169  64.041580  63.927372  65.250740   \n",
       "180 2024-11-19   NVDA  65.088030  67.784485  64.386106  64.993189  65.988026   \n",
       "\n",
       "           Volume  \n",
       "30   8.281600e+08  \n",
       "31   1.253256e+09  \n",
       "32   1.396788e+09  \n",
       "33   6.700360e+08  \n",
       "34   5.832680e+08  \n",
       "..            ...  \n",
       "176  2.936045e+08  \n",
       "177  2.072457e+08  \n",
       "178  2.160632e+08  \n",
       "179  2.567451e+08  \n",
       "180  2.524664e+08  \n",
       "\n",
       "[151 rows x 8 columns]"
      ]
     },
     "execution_count": 15,
     "metadata": {},
     "output_type": "execute_result"
    }
   ],
   "source": [
    "forecasts[0]"
   ]
  },
  {
   "cell_type": "code",
   "execution_count": 16,
   "metadata": {},
   "outputs": [
    {
     "name": "stderr",
     "output_type": "stream",
     "text": [
      "[*********************100%%**********************]  1 of 1 completed\n"
     ]
    },
    {
     "data": {
      "image/png": "[encoded data removed]",
      "text/plain": [
       "<Figure size 640x480 with 1 Axes>"
      ]
     },
     "metadata": {},
     "output_type": "display_data"
    }
   ],
   "source": [
    "for i, forecast in enumerate(forecasts):\n",
    "    true_pred = yf.download(\n",
    "        symbols[i],\n",
    "        start=forecast['Date'].iloc[0].strftime('%Y-%m-%d'),\n",
    "        end=forecast['Date'].iloc[-1].strftime('%Y-%m-%d'),\n",
    "    )\n",
    "    true_pred = true_pred.iloc[::prediction_length // down_sample]\n",
    "\n",
    "    plt.plot(true_pred['Close'].values, color=\"red\", label=\"Actual Price\")\n",
    "    plt.plot(forecast['Close'].values, color=\"green\", label=\"Forecasted Price\")\n",
    "    plt.plot(forecast['Close'].values[:-config.prediction_length], color=\"blue\", label=\"Historical Price\")\n",
    "    plt.title(f'{symbols[i]} Forecast')\n",
    "    plt.xlabel('Trading Days')\n",
    "    plt.ylabel('Close Price')\n",
    "    plt.legend()\n",
    "    plt.grid(True)\n",
    "    plt.show()"
   ]
  }
 ],
 "metadata": {
  "kernelspec": {
   "display_name": "ml",
   "language": "python",
   "name": "python3"
  },
  "language_info": {
   "codemirror_mode": {
    "name": "ipython",
    "version": 3
   },
   "file_extension": ".py",
   "mimetype": "text/x-python",
   "name": "python",
   "nbconvert_exporter": "python",
   "pygments_lexer": "ipython3",
   "version": "3.10.14"
  }
 },
 "nbformat": 4,
 "nbformat_minor": 2
}
